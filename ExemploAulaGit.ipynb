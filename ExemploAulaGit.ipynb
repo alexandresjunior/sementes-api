{
  "nbformat": 4,
  "nbformat_minor": 0,
  "metadata": {
    "colab": {
      "provenance": [],
      "authorship_tag": "ABX9TyNCfjBSBrVwQoWVUnObm2Wc",
      "include_colab_link": true
    },
    "kernelspec": {
      "name": "python3",
      "display_name": "Python 3"
    },
    "language_info": {
      "name": "python"
    }
  },
  "cells": [
    {
      "cell_type": "markdown",
      "metadata": {
        "id": "view-in-github",
        "colab_type": "text"
      },
      "source": [
        "<a href=\"https://colab.research.google.com/github/alexandresjunior/sementes-api/blob/main/ExemploAulaGit.ipynb\" target=\"_parent\"><img src=\"https://colab.research.google.com/assets/colab-badge.svg\" alt=\"Open In Colab\"/></a>"
      ]
    },
    {
      "cell_type": "code",
      "execution_count": null,
      "metadata": {
        "id": "YtsP2BC85g9W"
      },
      "outputs": [],
      "source": [
        "#contador de vogais\n",
        "\n",
        "contador = 0\n",
        "vogais = 'aeiou'\n",
        "\n",
        "texto = input(\"Digite uma frase: \")\n",
        "\n",
        "i = 0\n",
        "while i < len(texto):\n",
        "    if texto[i].lower() in vogais:\n",
        "        contador += 1\n",
        "    i += 1\n",
        "print('Número de vogais no contador é',contador)"
      ]
    },
    {
      "cell_type": "code",
      "source": [
        "def gerar_tabuada(numero):\n",
        "    for i in range(1, 11):\n",
        "        resultado = numero * i\n",
        "        print(f\"{numero} x {i} = {resultado}\")\n",
        "numero=int(input('Digite um número inteiro'))\n",
        "print (f'Esta é a tabuda do número \"{numero}\":')\n",
        "gerar_tabuada(numero)\n"
      ],
      "metadata": {
        "id": "_tGd3FLF6j1X"
      },
      "execution_count": null,
      "outputs": []
    }
  ]
}